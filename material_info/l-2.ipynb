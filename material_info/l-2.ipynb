{
 "cells": [
  {
   "cell_type": "code",
   "execution_count": null,
   "metadata": {},
   "outputs": [],
   "source": [
    "from mp_api.client import MPRester\n",
    "\n",
    "obj = MPRester(api_key=\"PsKY5NyxWs0UsFo8YZQ4ERpZ3C5V6Ufm\")\n"
   ]
  },
  {
   "cell_type": "code",
   "execution_count": null,
   "metadata": {},
   "outputs": [],
   "source": [
    "!pip install uvicorn\n",
    "!pip install python-multipart\n",
    "!pip install kaleido\n",
    "!pip install fastapi\n",
    "!pip install pymatgen"
   ]
  }
 ],
 "metadata": {
  "kernelspec": {
   "display_name": "base",
   "language": "python",
   "name": "python3"
  },
  "language_info": {
   "name": "python",
   "version": "3.11.4"
  }
 },
 "nbformat": 4,
 "nbformat_minor": 2
}
